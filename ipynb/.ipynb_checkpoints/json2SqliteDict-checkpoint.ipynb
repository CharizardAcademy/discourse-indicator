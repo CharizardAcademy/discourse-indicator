{
 "cells": [
  {
   "cell_type": "code",
   "execution_count": 1,
   "id": "adcdc8bf",
   "metadata": {},
   "outputs": [],
   "source": [
    "import json\n",
    "from tqdm import tqdm\n",
    "from sqlitedict import SqliteDict"
   ]
  },
  {
   "cell_type": "markdown",
   "id": "3dc0376f",
   "metadata": {},
   "source": [
    "#### create SqliteDict objects"
   ]
  },
  {
   "cell_type": "code",
   "execution_count": 3,
   "id": "08dd7dcc",
   "metadata": {},
   "outputs": [],
   "source": [
    "sci_body = SqliteDict('../SQLite/scinf-biomed-body-text.sqlite')"
   ]
  },
  {
   "cell_type": "code",
   "execution_count": null,
   "id": "183d513d",
   "metadata": {},
   "outputs": [],
   "source": [
    "sci_section = SqliteDict('../SQLite/scinf-biomed-body-text-sections.sqlite')"
   ]
  },
  {
   "cell_type": "code",
   "execution_count": 5,
   "id": "c7338641",
   "metadata": {},
   "outputs": [],
   "source": [
    "sci_global = SqliteDict('../SQLite/scinf-biomed-global-arguments.sqlite')"
   ]
  },
  {
   "cell_type": "code",
   "execution_count": 7,
   "id": "5937e64f",
   "metadata": {},
   "outputs": [],
   "source": [
    "sci_inter = SqliteDict('../SQLite/scinf-biomed-LAC-intersection.sqlite')"
   ]
  },
  {
   "cell_type": "code",
   "execution_count": 9,
   "id": "36336d10",
   "metadata": {},
   "outputs": [],
   "source": [
    "sci_ind = SqliteDict('../SQLite/scinf-biomed-LAC-indicator.sqlite')"
   ]
  },
  {
   "cell_type": "markdown",
   "id": "c97b0f49",
   "metadata": {},
   "source": [
    "#### write data into SqliteDict objects"
   ]
  },
  {
   "cell_type": "code",
   "execution_count": null,
   "id": "d3a9a7e4",
   "metadata": {},
   "outputs": [],
   "source": [
    "with open('../data/scinf-biomed-body-text.json', 'r') as fbody:\n",
    "    for line in tqdm(fbody):\n",
    "        data = json.loads(line)\n",
    "        sci_body[data['paper_id']] = {'title': data['title'], 'body_text': data['body_text']}"
   ]
  },
  {
   "cell_type": "code",
   "execution_count": null,
   "id": "818b504c",
   "metadata": {},
   "outputs": [],
   "source": [
    "with open('../data/scinf-biomed-body-text-sections.json', 'r') as fsection:\n",
    "    for line in tqdm(fsection):\n",
    "        data = json.loads(line)\n",
    "        sci_section[data['paper_id']] = {'title': data['title'], 'body_text': data['body_text']}"
   ]
  },
  {
   "cell_type": "code",
   "execution_count": null,
   "id": "9b27df6f",
   "metadata": {},
   "outputs": [],
   "source": [
    "with open('../data/scinf-biomed-global-arguments.json', 'r') as fglobal:\n",
    "    for line in tqdm(fglobal):\n",
    "        data = json.loads(line)\n",
    "        sci_global[data['paper_id']] = {'premise': data['premise'], 'conclusion': data['conclusion']}"
   ]
  },
  {
   "cell_type": "code",
   "execution_count": null,
   "id": "872a9ac7",
   "metadata": {},
   "outputs": [],
   "source": [
    "with open('../data/scinf-biomed-LAC-indicator.json', 'r') as find:\n",
    "    for line in tqdm(find):\n",
    "        data = json.loads(line)\n",
    "        sci_ind[data['paper_id']] = {'premise': data['premise'], 'conclusion': data['conclusion'], 'indicator': data['indicator']}"
   ]
  },
  {
   "cell_type": "code",
   "execution_count": null,
   "id": "e4dfc6ec",
   "metadata": {},
   "outputs": [],
   "source": [
    "with open('../data/scinf-biomed-LAC-intersection.json', 'r') as finter:\n",
    "    for line in tqdm(finter):\n",
    "        data = json.loads(line)\n",
    "        sci_inter[data['paper_id']] = {'premise': data['premise'], 'conclusion': data['conclusion']}"
   ]
  },
  {
   "cell_type": "code",
   "execution_count": null,
   "id": "57a62061",
   "metadata": {},
   "outputs": [],
   "source": []
  },
  {
   "cell_type": "code",
   "execution_count": null,
   "id": "fc511075",
   "metadata": {},
   "outputs": [],
   "source": []
  },
  {
   "cell_type": "code",
   "execution_count": null,
   "id": "fa102468",
   "metadata": {},
   "outputs": [],
   "source": []
  },
  {
   "cell_type": "code",
   "execution_count": 2,
   "id": "9cd43d92",
   "metadata": {},
   "outputs": [],
   "source": []
  },
  {
   "cell_type": "code",
   "execution_count": 8,
   "id": "4fe84f68",
   "metadata": {},
   "outputs": [],
   "source": []
  },
  {
   "cell_type": "code",
   "execution_count": null,
   "id": "962834ea",
   "metadata": {},
   "outputs": [],
   "source": []
  },
  {
   "cell_type": "code",
   "execution_count": null,
   "id": "75c441d4",
   "metadata": {},
   "outputs": [],
   "source": []
  },
  {
   "cell_type": "code",
   "execution_count": null,
   "id": "8a9ca3f4",
   "metadata": {},
   "outputs": [],
   "source": []
  }
 ],
 "metadata": {
  "kernelspec": {
   "display_name": "Python 3 (ipykernel)",
   "language": "python",
   "name": "python3"
  },
  "language_info": {
   "codemirror_mode": {
    "name": "ipython",
    "version": 3
   },
   "file_extension": ".py",
   "mimetype": "text/x-python",
   "name": "python",
   "nbconvert_exporter": "python",
   "pygments_lexer": "ipython3",
   "version": "3.8.13"
  }
 },
 "nbformat": 4,
 "nbformat_minor": 5
}
